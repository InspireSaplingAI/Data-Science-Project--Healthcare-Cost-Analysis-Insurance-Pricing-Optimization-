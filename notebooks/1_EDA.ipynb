{
   "cells": [
      {
         "cell_type": "markdown",
         "metadata": {},
         "source": [
            "# Key Steps:\n",
            "\n",
            "- Charges are right-skewed → Log transformation improves normality.\n",
            "- which status has the highest correlation with charges, what is the correlation score?\n",
            "- BMI and age show positive or negative correlations?"
         ]
      },
      {
         "cell_type": "code",
         "execution_count": null,
         "metadata": {},
         "outputs": [],
         "source": [
            "# Distribution of medical charges (right-skewed)\n",
            "plt.figure(figsize=(10, 6))\n",
            "sns.histplot(df['charges'], kde=True, bins=30)\n",
            "plt.title('Distribution of Medical Charges (Right-Skewed)')\n",
            "plt.show()"
         ]
      },
      {
         "cell_type": "code",
         "execution_count": null,
         "metadata": {},
         "outputs": [],
         "source": [
            "# Log transformation to normalize\n",
            "df['log_charges'] = np.log1p(df['charges'])\n",
            "sns.histplot(df['log_charges'], kde=True, bins=30)\n",
            "plt.title('Log-Transformed Charges (More Normal)')\n",
            "plt.show()"
         ]
      },
      {
         "cell_type": "code",
         "execution_count": null,
         "metadata": {},
         "outputs": [],
         "source": [
            "# Correlation heatmap\n",
            "plt.figure(figsize=(10, 6))\n",
            "sns.heatmap(df.corr(), annot=True, cmap='coolwarm')\n",
            "plt.title('Feature Correlation Heatmap')\n",
            "plt.show()"
         ]
      }
   ],
   "metadata": {
      "kernelspec": {
         "display_name": "Python 3",
         "language": "python",
         "name": "python3"
      },
      "language_info": {
         "name": "python",
         "version": ""
      }
   },
   "nbformat": 4,
   "nbformat_minor": 2
}
