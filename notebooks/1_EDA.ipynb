{
   "cells": [
      {
         "cell_type": "markdown",
         "metadata": {},
         "source": [
            "# Key Steps:\n",
            "\n",
            "- Charges are right-skewed → Log transformation improves normality.\n",
            "- which status has the highest correlation with charges, what is the correlation score?\n",
            "- BMI and age show positive or negative correlations?"
         ]
      },
      {
         "cell_type": "markdown",
         "metadata": {},
         "source": [
            "### Task: Visualize Cost Distribution Skewness\n",
            "Create a histogram with KDE to show medical cost skewness:  \n",
            "```python\n",
            "sns.histplot(df['charges'], kde=True, bins=30)\n",
            "plt.title('Medical Cost Distribution (Right-Skewed)')\n",
            "plt.show()\n",
            "```\n",
            "Observe the long right tail indicating higher-cost outliers.\n"
         ]
      },
      {
         "cell_type": "code",
         "execution_count": null,
         "metadata": {},
         "outputs": [],
         "source": [
            "# Todo: Distribution of medical charges (is it right-skewed?)"
         ]
      },
      {
         "cell_type": "markdown",
         "metadata": {},
         "source": [
            "### Log Transformation\n",
            "Applies natural log to normalize right-skewed cost data:\n",
            "```python\n",
            "df['log_charges'] = np.log1p(df['charges'])\n",
            "```\n",
            "Why use log1p?\n",
            "\n",
            "- Handles zero values safely (log(1+x transformation)\n",
            "\n",
            "- Compresses extreme values to reduce skew\n",
            "\n",
            "- Makes data more suitable for statistical tests"
         ]
      },
      {
         "cell_type": "code",
         "execution_count": null,
         "metadata": {},
         "outputs": [],
         "source": [
            "# Todo: Log transformation to normalize\n",
            "df['log_charges'] = np.log1p(df['charges'])\n",
            "# Todo: histplot df['log_charges'], Note the more symmetrical bell curve shape after transformation."
         ]
      },
      {
         "cell_type": "markdown",
         "metadata": {},
         "source": [
            "### Task: Create Correlation Heatmap\n",
            "Generate a heatmap to visualize relationships between numerical variables:\n",
            "```python\n",
            "sns.heatmap(df.corr(), annot=True, cmap='coolwarm')\n",
            "```\n",
            "Warm colors (red) = Positive correlation\n",
            "\n",
            "Cool colors (blue) = Negative correlation\n",
            "\n",
            "Values show correlation strength (-1 to 1)\n",
            "\n"
         ]
      },
      {
         "cell_type": "code",
         "execution_count": null,
         "metadata": {},
         "outputs": [],
         "source": [
            "# Todo: Correlation heatmap\n",
            "plt.figure(figsize=(10, 6))"
         ]
      }
   ],
   "metadata": {
      "kernelspec": {
         "display_name": "Python 3",
         "language": "python",
         "name": "python3"
      },
      "language_info": {
         "name": "python",
         "version": ""
      }
   },
   "nbformat": 4,
   "nbformat_minor": 2
}
